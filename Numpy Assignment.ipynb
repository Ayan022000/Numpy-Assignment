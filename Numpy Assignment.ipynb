{
 "cells": [
  {
   "cell_type": "markdown",
   "id": "01b2a8ef",
   "metadata": {},
   "source": [
    "## Consider the below code to answer further questions:"
   ]
  },
  {
   "cell_type": "code",
   "execution_count": 1,
   "id": "34706999",
   "metadata": {},
   "outputs": [],
   "source": [
    "import numpy as np\n",
    "list = ['1','2','3','4','5']\n",
    "array_list = np.array(object = list)"
   ]
  },
  {
   "cell_type": "markdown",
   "id": "4fccf214",
   "metadata": {},
   "source": [
    "# Q 1."
   ]
  },
  {
   "cell_type": "markdown",
   "id": "226ce0d9",
   "metadata": {},
   "source": [
    "## Is there any difference in the data type of variables list and array_list? If there is then write a code to print the data types of both the variables."
   ]
  },
  {
   "cell_type": "code",
   "execution_count": 2,
   "id": "2134d79a",
   "metadata": {},
   "outputs": [
    {
     "data": {
      "text/plain": [
       "list"
      ]
     },
     "execution_count": 2,
     "metadata": {},
     "output_type": "execute_result"
    }
   ],
   "source": [
    "type(list)"
   ]
  },
  {
   "cell_type": "code",
   "execution_count": 3,
   "id": "efef81b0",
   "metadata": {},
   "outputs": [
    {
     "data": {
      "text/plain": [
       "numpy.ndarray"
      ]
     },
     "execution_count": 3,
     "metadata": {},
     "output_type": "execute_result"
    }
   ],
   "source": [
    "type(array_list)"
   ]
  },
  {
   "cell_type": "markdown",
   "id": "5abc9a17",
   "metadata": {},
   "source": [
    "As we can see 'list' is a List type variable where as 'array_list' is a numpy.ndarray type variable"
   ]
  },
  {
   "cell_type": "markdown",
   "id": "1da01a33",
   "metadata": {},
   "source": [
    "# Q 2."
   ]
  },
  {
   "cell_type": "markdown",
   "id": "bb3fe7c6",
   "metadata": {},
   "source": [
    "## Write a code to print the data type of each and every element of both the variables list_ and arra_list."
   ]
  },
  {
   "cell_type": "code",
   "execution_count": 4,
   "id": "873aee46",
   "metadata": {},
   "outputs": [
    {
     "name": "stdout",
     "output_type": "stream",
     "text": [
      "<class 'str'>\n",
      "<class 'str'>\n",
      "<class 'str'>\n",
      "<class 'str'>\n",
      "<class 'str'>\n"
     ]
    }
   ],
   "source": [
    "for i in list:\n",
    "    print(type(i))"
   ]
  },
  {
   "cell_type": "code",
   "execution_count": 5,
   "id": "43655ce0",
   "metadata": {},
   "outputs": [
    {
     "name": "stdout",
     "output_type": "stream",
     "text": [
      "<class 'numpy.str_'>\n",
      "<class 'numpy.str_'>\n",
      "<class 'numpy.str_'>\n",
      "<class 'numpy.str_'>\n",
      "<class 'numpy.str_'>\n"
     ]
    }
   ],
   "source": [
    "for i in array_list:\n",
    "    print(type(i))"
   ]
  },
  {
   "cell_type": "markdown",
   "id": "782696ae",
   "metadata": {},
   "source": [
    "# Q 3."
   ]
  },
  {
   "cell_type": "markdown",
   "id": "473f67d5",
   "metadata": {},
   "source": [
    "## Considering the following changes in the variable, array_list:"
   ]
  },
  {
   "cell_type": "code",
   "execution_count": 6,
   "id": "6fe26187",
   "metadata": {},
   "outputs": [],
   "source": [
    "array_list = np.array(object = list,dtype= int )"
   ]
  },
  {
   "cell_type": "markdown",
   "id": "d2c21902",
   "metadata": {},
   "source": [
    "### Will there be any difference in the data type of the elements present in both the variables, list_ and arra_list? If so then print the data types of each and every element present in both the variables, list_ and arra_list."
   ]
  },
  {
   "cell_type": "code",
   "execution_count": 8,
   "id": "67fa3774",
   "metadata": {},
   "outputs": [
    {
     "name": "stdout",
     "output_type": "stream",
     "text": [
      "<class 'numpy.int32'>\n",
      "<class 'numpy.int32'>\n",
      "<class 'numpy.int32'>\n",
      "<class 'numpy.int32'>\n",
      "<class 'numpy.int32'>\n"
     ]
    }
   ],
   "source": [
    "for i in array_list:\n",
    "    print(type(i))"
   ]
  },
  {
   "cell_type": "markdown",
   "id": "39f108a9",
   "metadata": {},
   "source": [
    "so as we can see that previously the dtype of elements present in the 'array_list' were str and now those elements types changes into int ."
   ]
  },
  {
   "cell_type": "markdown",
   "id": "36d26a57",
   "metadata": {},
   "source": [
    "## Consider the below code to answer further questions:"
   ]
  },
  {
   "cell_type": "code",
   "execution_count": 9,
   "id": "bcf7a274",
   "metadata": {},
   "outputs": [],
   "source": [
    "num_list = [ [ 1 , 2 , 3 ] , [ 4 , 5 , 6 ] ]\n",
    "num_array = np.array(object = num_list)"
   ]
  },
  {
   "cell_type": "markdown",
   "id": "04851438",
   "metadata": {},
   "source": [
    "# Q 4."
   ]
  },
  {
   "cell_type": "markdown",
   "id": "d119dd6e",
   "metadata": {},
   "source": [
    "## Write a code to find the following characteristics of variable, num_array:\n",
    "### (i) shape\n",
    "### (ii) size"
   ]
  },
  {
   "cell_type": "code",
   "execution_count": 10,
   "id": "17f39285",
   "metadata": {},
   "outputs": [
    {
     "data": {
      "text/plain": [
       "(2, 3)"
      ]
     },
     "execution_count": 10,
     "metadata": {},
     "output_type": "execute_result"
    }
   ],
   "source": [
    "num_array.shape"
   ]
  },
  {
   "cell_type": "code",
   "execution_count": 11,
   "id": "6e749d31",
   "metadata": {},
   "outputs": [
    {
     "data": {
      "text/plain": [
       "6"
      ]
     },
     "execution_count": 11,
     "metadata": {},
     "output_type": "execute_result"
    }
   ],
   "source": [
    "num_array.size"
   ]
  },
  {
   "cell_type": "markdown",
   "id": "0e28d191",
   "metadata": {},
   "source": [
    "# Q 5."
   ]
  },
  {
   "cell_type": "markdown",
   "id": "6fc9a3bb",
   "metadata": {},
   "source": [
    "## Write a code to create numpy array of 3*3 matrix containing zeros only, using a numpy array creation function."
   ]
  },
  {
   "cell_type": "code",
   "execution_count": 15,
   "id": "e9499638",
   "metadata": {},
   "outputs": [
    {
     "name": "stdout",
     "output_type": "stream",
     "text": [
      "[[0. 0. 0.]\n",
      " [0. 0. 0.]\n",
      " [0. 0. 0.]]\n",
      "shape (3, 3)\n",
      "size 9\n"
     ]
    }
   ],
   "source": [
    "zer0_mat = np.zeros((3,3))\n",
    "print(zer0_mat)\n",
    "\n",
    "print('shape',zer0_mat.shape)\n",
    "print('size', zer0_mat.size)"
   ]
  },
  {
   "cell_type": "markdown",
   "id": "19c9f103",
   "metadata": {},
   "source": [
    "# Q 6."
   ]
  },
  {
   "cell_type": "markdown",
   "id": "cb4d438f",
   "metadata": {},
   "source": [
    "## Create an identity matrix of shape (5,5) using numpy functions?"
   ]
  },
  {
   "cell_type": "code",
   "execution_count": 17,
   "id": "33ae9f09",
   "metadata": {},
   "outputs": [
    {
     "data": {
      "text/plain": [
       "array([[1., 0., 0., 0., 0.],\n",
       "       [0., 1., 0., 0., 0.],\n",
       "       [0., 0., 1., 0., 0.],\n",
       "       [0., 0., 0., 1., 0.],\n",
       "       [0., 0., 0., 0., 1.]])"
      ]
     },
     "execution_count": 17,
     "metadata": {},
     "output_type": "execute_result"
    }
   ],
   "source": [
    "identity_mat = np.eye(5,5)\n",
    "identity_mat"
   ]
  }
 ],
 "metadata": {
  "kernelspec": {
   "display_name": "Python 3 (ipykernel)",
   "language": "python",
   "name": "python3"
  },
  "language_info": {
   "codemirror_mode": {
    "name": "ipython",
    "version": 3
   },
   "file_extension": ".py",
   "mimetype": "text/x-python",
   "name": "python",
   "nbconvert_exporter": "python",
   "pygments_lexer": "ipython3",
   "version": "3.9.13"
  }
 },
 "nbformat": 4,
 "nbformat_minor": 5
}
